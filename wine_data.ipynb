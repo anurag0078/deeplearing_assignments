{
  "nbformat": 4,
  "nbformat_minor": 0,
  "metadata": {
    "colab": {
      "name": "wine data.ipynb",
      "provenance": [],
      "mount_file_id": "1O1S5jycy7_CylnVyiOspLymYyFLk-mUv",
      "authorship_tag": "ABX9TyNdSVwc+6yJkFM5H53L4R5D",
      "include_colab_link": true
    },
    "kernelspec": {
      "name": "python3",
      "display_name": "Python 3"
    },
    "language_info": {
      "name": "python"
    },
    "accelerator": "GPU"
  },
  "cells": [
    {
      "cell_type": "markdown",
      "metadata": {
        "id": "view-in-github",
        "colab_type": "text"
      },
      "source": [
        "<a href=\"https://colab.research.google.com/github/anurag0078/deeplearing_assignments/blob/main/wine_data.ipynb\" target=\"_parent\"><img src=\"https://colab.research.google.com/assets/colab-badge.svg\" alt=\"Open In Colab\"/></a>"
      ]
    },
    {
      "cell_type": "code",
      "metadata": {
        "colab": {
          "base_uri": "https://localhost:8080/"
        },
        "id": "SL5JNQTvEchF",
        "outputId": "89d8a7d1-3d9f-49f2-a510-a01a65500b10"
      },
      "source": [
        "from google.colab import drive\n",
        "drive.mount('/content/gdrive')"
      ],
      "execution_count": 1,
      "outputs": [
        {
          "output_type": "stream",
          "name": "stdout",
          "text": [
            "Mounted at /content/gdrive\n"
          ]
        }
      ]
    },
    {
      "cell_type": "code",
      "metadata": {
        "id": "NvuyoP83E01v"
      },
      "source": [
        "data_path='/content/gdrive/MyDrive/deep learning/assignment1/winequality-white.csv'"
      ],
      "execution_count": 2,
      "outputs": []
    },
    {
      "cell_type": "code",
      "metadata": {
        "colab": {
          "base_uri": "https://localhost:8080/",
          "height": 460
        },
        "id": "3ghzEZKTFtAH",
        "outputId": "44bfceaf-462d-4a70-db2d-fc82d160131d"
      },
      "source": [
        "from pandas import read_csv\n",
        "df = read_csv(data_path, sep=';')\n",
        "print(df)\n",
        "df.head()"
      ],
      "execution_count": 3,
      "outputs": [
        {
          "output_type": "stream",
          "name": "stdout",
          "text": [
            "      fixed acidity  volatile acidity  citric acid  ...  sulphates  alcohol  quality\n",
            "0               7.0              0.27         0.36  ...       0.45      8.8        6\n",
            "1               6.3              0.30         0.34  ...       0.49      9.5        6\n",
            "2               8.1              0.28         0.40  ...       0.44     10.1        6\n",
            "3               7.2              0.23         0.32  ...       0.40      9.9        6\n",
            "4               7.2              0.23         0.32  ...       0.40      9.9        6\n",
            "...             ...               ...          ...  ...        ...      ...      ...\n",
            "4893            6.2              0.21         0.29  ...       0.50     11.2        6\n",
            "4894            6.6              0.32         0.36  ...       0.46      9.6        5\n",
            "4895            6.5              0.24         0.19  ...       0.46      9.4        6\n",
            "4896            5.5              0.29         0.30  ...       0.38     12.8        7\n",
            "4897            6.0              0.21         0.38  ...       0.32     11.8        6\n",
            "\n",
            "[4898 rows x 12 columns]\n"
          ]
        },
        {
          "output_type": "execute_result",
          "data": {
            "text/html": [
              "<div>\n",
              "<style scoped>\n",
              "    .dataframe tbody tr th:only-of-type {\n",
              "        vertical-align: middle;\n",
              "    }\n",
              "\n",
              "    .dataframe tbody tr th {\n",
              "        vertical-align: top;\n",
              "    }\n",
              "\n",
              "    .dataframe thead th {\n",
              "        text-align: right;\n",
              "    }\n",
              "</style>\n",
              "<table border=\"1\" class=\"dataframe\">\n",
              "  <thead>\n",
              "    <tr style=\"text-align: right;\">\n",
              "      <th></th>\n",
              "      <th>fixed acidity</th>\n",
              "      <th>volatile acidity</th>\n",
              "      <th>citric acid</th>\n",
              "      <th>residual sugar</th>\n",
              "      <th>chlorides</th>\n",
              "      <th>free sulfur dioxide</th>\n",
              "      <th>total sulfur dioxide</th>\n",
              "      <th>density</th>\n",
              "      <th>pH</th>\n",
              "      <th>sulphates</th>\n",
              "      <th>alcohol</th>\n",
              "      <th>quality</th>\n",
              "    </tr>\n",
              "  </thead>\n",
              "  <tbody>\n",
              "    <tr>\n",
              "      <th>0</th>\n",
              "      <td>7.0</td>\n",
              "      <td>0.27</td>\n",
              "      <td>0.36</td>\n",
              "      <td>20.7</td>\n",
              "      <td>0.045</td>\n",
              "      <td>45.0</td>\n",
              "      <td>170.0</td>\n",
              "      <td>1.0010</td>\n",
              "      <td>3.00</td>\n",
              "      <td>0.45</td>\n",
              "      <td>8.8</td>\n",
              "      <td>6</td>\n",
              "    </tr>\n",
              "    <tr>\n",
              "      <th>1</th>\n",
              "      <td>6.3</td>\n",
              "      <td>0.30</td>\n",
              "      <td>0.34</td>\n",
              "      <td>1.6</td>\n",
              "      <td>0.049</td>\n",
              "      <td>14.0</td>\n",
              "      <td>132.0</td>\n",
              "      <td>0.9940</td>\n",
              "      <td>3.30</td>\n",
              "      <td>0.49</td>\n",
              "      <td>9.5</td>\n",
              "      <td>6</td>\n",
              "    </tr>\n",
              "    <tr>\n",
              "      <th>2</th>\n",
              "      <td>8.1</td>\n",
              "      <td>0.28</td>\n",
              "      <td>0.40</td>\n",
              "      <td>6.9</td>\n",
              "      <td>0.050</td>\n",
              "      <td>30.0</td>\n",
              "      <td>97.0</td>\n",
              "      <td>0.9951</td>\n",
              "      <td>3.26</td>\n",
              "      <td>0.44</td>\n",
              "      <td>10.1</td>\n",
              "      <td>6</td>\n",
              "    </tr>\n",
              "    <tr>\n",
              "      <th>3</th>\n",
              "      <td>7.2</td>\n",
              "      <td>0.23</td>\n",
              "      <td>0.32</td>\n",
              "      <td>8.5</td>\n",
              "      <td>0.058</td>\n",
              "      <td>47.0</td>\n",
              "      <td>186.0</td>\n",
              "      <td>0.9956</td>\n",
              "      <td>3.19</td>\n",
              "      <td>0.40</td>\n",
              "      <td>9.9</td>\n",
              "      <td>6</td>\n",
              "    </tr>\n",
              "    <tr>\n",
              "      <th>4</th>\n",
              "      <td>7.2</td>\n",
              "      <td>0.23</td>\n",
              "      <td>0.32</td>\n",
              "      <td>8.5</td>\n",
              "      <td>0.058</td>\n",
              "      <td>47.0</td>\n",
              "      <td>186.0</td>\n",
              "      <td>0.9956</td>\n",
              "      <td>3.19</td>\n",
              "      <td>0.40</td>\n",
              "      <td>9.9</td>\n",
              "      <td>6</td>\n",
              "    </tr>\n",
              "  </tbody>\n",
              "</table>\n",
              "</div>"
            ],
            "text/plain": [
              "   fixed acidity  volatile acidity  citric acid  ...  sulphates  alcohol  quality\n",
              "0            7.0              0.27         0.36  ...       0.45      8.8        6\n",
              "1            6.3              0.30         0.34  ...       0.49      9.5        6\n",
              "2            8.1              0.28         0.40  ...       0.44     10.1        6\n",
              "3            7.2              0.23         0.32  ...       0.40      9.9        6\n",
              "4            7.2              0.23         0.32  ...       0.40      9.9        6\n",
              "\n",
              "[5 rows x 12 columns]"
            ]
          },
          "metadata": {},
          "execution_count": 3
        }
      ]
    },
    {
      "cell_type": "code",
      "metadata": {
        "colab": {
          "base_uri": "https://localhost:8080/",
          "height": 206
        },
        "id": "MvdxdbopHzjf",
        "outputId": "b6fdd99b-0351-48e0-80a3-25e1bf5def38"
      },
      "source": [
        "df.tail()"
      ],
      "execution_count": 4,
      "outputs": [
        {
          "output_type": "execute_result",
          "data": {
            "text/html": [
              "<div>\n",
              "<style scoped>\n",
              "    .dataframe tbody tr th:only-of-type {\n",
              "        vertical-align: middle;\n",
              "    }\n",
              "\n",
              "    .dataframe tbody tr th {\n",
              "        vertical-align: top;\n",
              "    }\n",
              "\n",
              "    .dataframe thead th {\n",
              "        text-align: right;\n",
              "    }\n",
              "</style>\n",
              "<table border=\"1\" class=\"dataframe\">\n",
              "  <thead>\n",
              "    <tr style=\"text-align: right;\">\n",
              "      <th></th>\n",
              "      <th>fixed acidity</th>\n",
              "      <th>volatile acidity</th>\n",
              "      <th>citric acid</th>\n",
              "      <th>residual sugar</th>\n",
              "      <th>chlorides</th>\n",
              "      <th>free sulfur dioxide</th>\n",
              "      <th>total sulfur dioxide</th>\n",
              "      <th>density</th>\n",
              "      <th>pH</th>\n",
              "      <th>sulphates</th>\n",
              "      <th>alcohol</th>\n",
              "      <th>quality</th>\n",
              "    </tr>\n",
              "  </thead>\n",
              "  <tbody>\n",
              "    <tr>\n",
              "      <th>4893</th>\n",
              "      <td>6.2</td>\n",
              "      <td>0.21</td>\n",
              "      <td>0.29</td>\n",
              "      <td>1.6</td>\n",
              "      <td>0.039</td>\n",
              "      <td>24.0</td>\n",
              "      <td>92.0</td>\n",
              "      <td>0.99114</td>\n",
              "      <td>3.27</td>\n",
              "      <td>0.50</td>\n",
              "      <td>11.2</td>\n",
              "      <td>6</td>\n",
              "    </tr>\n",
              "    <tr>\n",
              "      <th>4894</th>\n",
              "      <td>6.6</td>\n",
              "      <td>0.32</td>\n",
              "      <td>0.36</td>\n",
              "      <td>8.0</td>\n",
              "      <td>0.047</td>\n",
              "      <td>57.0</td>\n",
              "      <td>168.0</td>\n",
              "      <td>0.99490</td>\n",
              "      <td>3.15</td>\n",
              "      <td>0.46</td>\n",
              "      <td>9.6</td>\n",
              "      <td>5</td>\n",
              "    </tr>\n",
              "    <tr>\n",
              "      <th>4895</th>\n",
              "      <td>6.5</td>\n",
              "      <td>0.24</td>\n",
              "      <td>0.19</td>\n",
              "      <td>1.2</td>\n",
              "      <td>0.041</td>\n",
              "      <td>30.0</td>\n",
              "      <td>111.0</td>\n",
              "      <td>0.99254</td>\n",
              "      <td>2.99</td>\n",
              "      <td>0.46</td>\n",
              "      <td>9.4</td>\n",
              "      <td>6</td>\n",
              "    </tr>\n",
              "    <tr>\n",
              "      <th>4896</th>\n",
              "      <td>5.5</td>\n",
              "      <td>0.29</td>\n",
              "      <td>0.30</td>\n",
              "      <td>1.1</td>\n",
              "      <td>0.022</td>\n",
              "      <td>20.0</td>\n",
              "      <td>110.0</td>\n",
              "      <td>0.98869</td>\n",
              "      <td>3.34</td>\n",
              "      <td>0.38</td>\n",
              "      <td>12.8</td>\n",
              "      <td>7</td>\n",
              "    </tr>\n",
              "    <tr>\n",
              "      <th>4897</th>\n",
              "      <td>6.0</td>\n",
              "      <td>0.21</td>\n",
              "      <td>0.38</td>\n",
              "      <td>0.8</td>\n",
              "      <td>0.020</td>\n",
              "      <td>22.0</td>\n",
              "      <td>98.0</td>\n",
              "      <td>0.98941</td>\n",
              "      <td>3.26</td>\n",
              "      <td>0.32</td>\n",
              "      <td>11.8</td>\n",
              "      <td>6</td>\n",
              "    </tr>\n",
              "  </tbody>\n",
              "</table>\n",
              "</div>"
            ],
            "text/plain": [
              "      fixed acidity  volatile acidity  citric acid  ...  sulphates  alcohol  quality\n",
              "4893            6.2              0.21         0.29  ...       0.50     11.2        6\n",
              "4894            6.6              0.32         0.36  ...       0.46      9.6        5\n",
              "4895            6.5              0.24         0.19  ...       0.46      9.4        6\n",
              "4896            5.5              0.29         0.30  ...       0.38     12.8        7\n",
              "4897            6.0              0.21         0.38  ...       0.32     11.8        6\n",
              "\n",
              "[5 rows x 12 columns]"
            ]
          },
          "metadata": {},
          "execution_count": 4
        }
      ]
    },
    {
      "cell_type": "code",
      "metadata": {
        "colab": {
          "base_uri": "https://localhost:8080/"
        },
        "id": "AvmiGSLdD7qG",
        "outputId": "a3e131e7-06bd-4d14-b51a-6267f30e70df"
      },
      "source": [
        "df.info()"
      ],
      "execution_count": 5,
      "outputs": [
        {
          "output_type": "stream",
          "name": "stdout",
          "text": [
            "<class 'pandas.core.frame.DataFrame'>\n",
            "RangeIndex: 4898 entries, 0 to 4897\n",
            "Data columns (total 12 columns):\n",
            " #   Column                Non-Null Count  Dtype  \n",
            "---  ------                --------------  -----  \n",
            " 0   fixed acidity         4898 non-null   float64\n",
            " 1   volatile acidity      4898 non-null   float64\n",
            " 2   citric acid           4898 non-null   float64\n",
            " 3   residual sugar        4898 non-null   float64\n",
            " 4   chlorides             4898 non-null   float64\n",
            " 5   free sulfur dioxide   4898 non-null   float64\n",
            " 6   total sulfur dioxide  4898 non-null   float64\n",
            " 7   density               4898 non-null   float64\n",
            " 8   pH                    4898 non-null   float64\n",
            " 9   sulphates             4898 non-null   float64\n",
            " 10  alcohol               4898 non-null   float64\n",
            " 11  quality               4898 non-null   int64  \n",
            "dtypes: float64(11), int64(1)\n",
            "memory usage: 459.3 KB\n"
          ]
        }
      ]
    },
    {
      "cell_type": "code",
      "metadata": {
        "id": "lUTtXqqcEZlO"
      },
      "source": [
        "import matplotlib.pyplot as plt\n",
        "%matplotlib inline"
      ],
      "execution_count": 6,
      "outputs": []
    },
    {
      "cell_type": "code",
      "metadata": {
        "colab": {
          "base_uri": "https://localhost:8080/",
          "height": 281
        },
        "id": "M8-sKq1-FHlk",
        "outputId": "984ee08a-2c7d-4fb0-c901-c7990cf5dace"
      },
      "source": [
        "fig = plt.figure()\n",
        "ax = fig.add_subplot(111)\n",
        "ax.set(xlabel = 'total sulfur dioxide',\n",
        "      ylabel = 'free sulfur dioxide')\n",
        "ax.scatter(df['total sulfur dioxide'], df['free sulfur dioxide'], c='y')\n",
        "plt.show()"
      ],
      "execution_count": 7,
      "outputs": [
        {
          "output_type": "display_data",
          "data": {
            "image/png": "[encoded data removed]",
            "text/plain": [
              "<Figure size 432x288 with 1 Axes>"
            ]
          },
          "metadata": {
            "needs_background": "light"
          }
        }
      ]
    },
    {
      "cell_type": "code",
      "metadata": {
        "colab": {
          "base_uri": "https://localhost:8080/"
        },
        "id": "Y80DNsozFfCS",
        "outputId": "5bd089bd-3b3f-4caa-cd90-2f5026ce0c6f"
      },
      "source": [
        "df['quality'].describe()"
      ],
      "execution_count": 8,
      "outputs": [
        {
          "output_type": "execute_result",
          "data": {
            "text/plain": [
              "count    4898.000000\n",
              "mean        5.877909\n",
              "std         0.885639\n",
              "min         3.000000\n",
              "25%         5.000000\n",
              "50%         6.000000\n",
              "75%         6.000000\n",
              "max         9.000000\n",
              "Name: quality, dtype: float64"
            ]
          },
          "metadata": {},
          "execution_count": 8
        }
      ]
    },
    {
      "cell_type": "code",
      "metadata": {
        "id": "4_68I_QZOKVZ"
      },
      "source": [
        " d1=df['quality']\n",
        "# print(d1)"
      ],
      "execution_count": 9,
      "outputs": []
    },
    {
      "cell_type": "code",
      "metadata": {
        "id": "63smoZrwJIhS"
      },
      "source": [
        "from sklearn.model_selection import train_test_split\n",
        "train1 = df.drop(df.columns[11],axis=1)\n",
        "labels = d1\n",
        "x_train , x_test , y_train , y_test = train_test_split(train1 , labels , test_size = 0.33,random_state =16)\n",
        "\n"
      ],
      "execution_count": 10,
      "outputs": []
    },
    {
      "cell_type": "code",
      "metadata": {
        "colab": {
          "base_uri": "https://localhost:8080/"
        },
        "id": "9bl2nb9cS12q",
        "outputId": "554fd901-9ac2-43a7-94e6-2fd8eb54b2c0"
      },
      "source": [
        "print(train1)\n",
        "print(labels)"
      ],
      "execution_count": 11,
      "outputs": [
        {
          "output_type": "stream",
          "name": "stdout",
          "text": [
            "      fixed acidity  volatile acidity  citric acid  ...    pH  sulphates  alcohol\n",
            "0               7.0              0.27         0.36  ...  3.00       0.45      8.8\n",
            "1               6.3              0.30         0.34  ...  3.30       0.49      9.5\n",
            "2               8.1              0.28         0.40  ...  3.26       0.44     10.1\n",
            "3               7.2              0.23         0.32  ...  3.19       0.40      9.9\n",
            "4               7.2              0.23         0.32  ...  3.19       0.40      9.9\n",
            "...             ...               ...          ...  ...   ...        ...      ...\n",
            "4893            6.2              0.21         0.29  ...  3.27       0.50     11.2\n",
            "4894            6.6              0.32         0.36  ...  3.15       0.46      9.6\n",
            "4895            6.5              0.24         0.19  ...  2.99       0.46      9.4\n",
            "4896            5.5              0.29         0.30  ...  3.34       0.38     12.8\n",
            "4897            6.0              0.21         0.38  ...  3.26       0.32     11.8\n",
            "\n",
            "[4898 rows x 11 columns]\n",
            "0       6\n",
            "1       6\n",
            "2       6\n",
            "3       6\n",
            "4       6\n",
            "       ..\n",
            "4893    6\n",
            "4894    5\n",
            "4895    6\n",
            "4896    7\n",
            "4897    6\n",
            "Name: quality, Length: 4898, dtype: int64\n"
          ]
        }
      ]
    },
    {
      "cell_type": "code",
      "metadata": {
        "id": "ejYS4SM5JnCi"
      },
      "source": [
        "# from sklearn.preprocessing import StandardScaler\n",
        "# scaler = StandardScaler().fit(x_train)\n",
        "# X_train = scaler.transform(x_train)\n",
        "# X_test = scaler.transform(x_test)\n"
      ],
      "execution_count": 12,
      "outputs": []
    },
    {
      "cell_type": "code",
      "metadata": {
        "id": "CEGdz2b8J0AA"
      },
      "source": [
        "from keras.models import Sequential\n",
        "from keras.layers import Dense\n",
        "from keras import optimizers\n",
        "\n",
        "model = Sequential()\n",
        "model.add(Dense(64, input_dim= 11, activation = 'relu',kernel_regularizer='l2'))\n",
        "# model.add(Dense(164, activation = 'relu',kernel_regularizer='l2'))\n",
        "# model.add(Dense(64, activation = 'relu',kernel_regularizer='l2'))\n",
        "\n",
        "model.add(Dense(32, activation = 'relu',kernel_regularizer='l2'))\n",
        "model.add(Dense(8, activation = 'relu'))\n",
        "\n",
        "model.add(Dense(1))\n",
        "model.compile(loss='mse', optimizer='rmsprop', metrics=['mse'])"
      ],
      "execution_count": 13,
      "outputs": []
    },
    {
      "cell_type": "code",
      "metadata": {
        "colab": {
          "base_uri": "https://localhost:8080/"
        },
        "id": "ZsMxI9EZJ7RW",
        "outputId": "0a8dc2e8-aa3b-419f-a28c-d75e458a0053"
      },
      "source": [
        "import tensorflow as tf\n",
        "from tensorflow.keras.callbacks import EarlyStopping\n",
        "early_stop = EarlyStopping(monitor='val_loss', mode='min', verbose=1, patience=20)\n",
        "\n",
        "with tf.device('/gpu:0'):\n",
        "  history=model.fit(x=x_train,y=y_train.values,\n",
        "            validation_data=(x_test,y_test.values),\n",
        "            batch_size=128,epochs=1000,callbacks=[early_stop])"
      ],
      "execution_count": 14,
      "outputs": [
        {
          "output_type": "stream",
          "name": "stdout",
          "text": [
            "Epoch 1/1000\n",
            "26/26 [==============================] - 1s 15ms/step - loss: 13.0156 - mse: 12.4693 - val_loss: 3.8143 - val_mse: 3.3103\n",
            "Epoch 2/1000\n",
            "26/26 [==============================] - 0s 5ms/step - loss: 6.8781 - mse: 6.4037 - val_loss: 5.4400 - val_mse: 4.9966\n",
            "Epoch 3/1000\n",
            "26/26 [==============================] - 0s 7ms/step - loss: 4.5737 - mse: 4.1539 - val_loss: 4.6595 - val_mse: 4.2637\n",
            "Epoch 4/1000\n",
            "26/26 [==============================] - 0s 7ms/step - loss: 5.3532 - mse: 4.9755 - val_loss: 4.2970 - val_mse: 3.9379\n",
            "Epoch 5/1000\n",
            "26/26 [==============================] - 0s 8ms/step - loss: 4.7794 - mse: 4.4342 - val_loss: 5.8486 - val_mse: 5.5177\n",
            "Epoch 6/1000\n",
            "26/26 [==============================] - 0s 8ms/step - loss: 4.4253 - mse: 4.1043 - val_loss: 4.7360 - val_mse: 4.4251\n",
            "Epoch 7/1000\n",
            "26/26 [==============================] - 0s 7ms/step - loss: 4.1828 - mse: 3.8787 - val_loss: 4.3527 - val_mse: 4.0555\n",
            "Epoch 8/1000\n",
            "26/26 [==============================] - 0s 5ms/step - loss: 3.7957 - mse: 3.5036 - val_loss: 2.5994 - val_mse: 2.3123\n",
            "Epoch 9/1000\n",
            "26/26 [==============================] - 0s 5ms/step - loss: 3.7187 - mse: 3.4355 - val_loss: 4.6997 - val_mse: 4.4200\n",
            "Epoch 10/1000\n",
            "26/26 [==============================] - 0s 5ms/step - loss: 3.4482 - mse: 3.1712 - val_loss: 5.6336 - val_mse: 5.3597\n",
            "Epoch 11/1000\n",
            "26/26 [==============================] - 0s 5ms/step - loss: 3.2565 - mse: 2.9850 - val_loss: 2.3120 - val_mse: 2.0433\n",
            "Epoch 12/1000\n",
            "26/26 [==============================] - 0s 7ms/step - loss: 3.3419 - mse: 3.0750 - val_loss: 3.8996 - val_mse: 3.6351\n",
            "Epoch 13/1000\n",
            "26/26 [==============================] - 0s 7ms/step - loss: 2.7191 - mse: 2.4565 - val_loss: 3.5660 - val_mse: 3.3055\n",
            "Epoch 14/1000\n",
            "26/26 [==============================] - 0s 5ms/step - loss: 2.9113 - mse: 2.6528 - val_loss: 3.8599 - val_mse: 3.6033\n",
            "Epoch 15/1000\n",
            "26/26 [==============================] - 0s 5ms/step - loss: 2.5447 - mse: 2.2900 - val_loss: 3.8510 - val_mse: 3.5985\n",
            "Epoch 16/1000\n",
            "26/26 [==============================] - 0s 5ms/step - loss: 2.5644 - mse: 2.3136 - val_loss: 2.5542 - val_mse: 2.3054\n",
            "Epoch 17/1000\n",
            "26/26 [==============================] - 0s 5ms/step - loss: 2.6353 - mse: 2.3878 - val_loss: 1.4385 - val_mse: 1.1929\n",
            "Epoch 18/1000\n",
            "26/26 [==============================] - 0s 5ms/step - loss: 2.4413 - mse: 2.1972 - val_loss: 1.1297 - val_mse: 0.8873\n",
            "Epoch 19/1000\n",
            "26/26 [==============================] - 0s 7ms/step - loss: 2.0540 - mse: 1.8130 - val_loss: 1.7636 - val_mse: 1.5243\n",
            "Epoch 20/1000\n",
            "26/26 [==============================] - 0s 5ms/step - loss: 2.1966 - mse: 1.9587 - val_loss: 1.4492 - val_mse: 1.2132\n",
            "Epoch 21/1000\n",
            "26/26 [==============================] - 0s 5ms/step - loss: 1.8536 - mse: 1.6189 - val_loss: 2.3677 - val_mse: 2.1350\n",
            "Epoch 22/1000\n",
            "26/26 [==============================] - 0s 5ms/step - loss: 2.1872 - mse: 1.9561 - val_loss: 1.2732 - val_mse: 1.0443\n",
            "Epoch 23/1000\n",
            "26/26 [==============================] - 0s 7ms/step - loss: 1.8199 - mse: 1.5930 - val_loss: 2.2084 - val_mse: 1.9840\n",
            "Epoch 24/1000\n",
            "26/26 [==============================] - 0s 5ms/step - loss: 1.7114 - mse: 1.4888 - val_loss: 1.6807 - val_mse: 1.4605\n",
            "Epoch 25/1000\n",
            "26/26 [==============================] - 0s 5ms/step - loss: 1.8508 - mse: 1.6327 - val_loss: 1.6346 - val_mse: 1.4189\n",
            "Epoch 26/1000\n",
            "26/26 [==============================] - 0s 5ms/step - loss: 1.4790 - mse: 1.2654 - val_loss: 3.9847 - val_mse: 3.7740\n",
            "Epoch 27/1000\n",
            "26/26 [==============================] - 0s 5ms/step - loss: 1.7974 - mse: 1.5888 - val_loss: 1.0372 - val_mse: 0.8315\n",
            "Epoch 28/1000\n",
            "26/26 [==============================] - 0s 7ms/step - loss: 1.5329 - mse: 1.3297 - val_loss: 2.4772 - val_mse: 2.2767\n",
            "Epoch 29/1000\n",
            "26/26 [==============================] - 0s 5ms/step - loss: 1.5935 - mse: 1.3952 - val_loss: 1.2226 - val_mse: 1.0267\n",
            "Epoch 30/1000\n",
            "26/26 [==============================] - 0s 6ms/step - loss: 1.3356 - mse: 1.1417 - val_loss: 1.1837 - val_mse: 0.9918\n",
            "Epoch 31/1000\n",
            "26/26 [==============================] - 0s 5ms/step - loss: 1.4731 - mse: 1.2829 - val_loss: 1.2870 - val_mse: 1.0984\n",
            "Epoch 32/1000\n",
            "26/26 [==============================] - 0s 5ms/step - loss: 1.4172 - mse: 1.2301 - val_loss: 1.2282 - val_mse: 1.0424\n",
            "Epoch 33/1000\n",
            "26/26 [==============================] - 0s 5ms/step - loss: 1.2490 - mse: 1.0645 - val_loss: 1.0867 - val_mse: 0.9035\n",
            "Epoch 34/1000\n",
            "26/26 [==============================] - 0s 7ms/step - loss: 1.3300 - mse: 1.1480 - val_loss: 1.4548 - val_mse: 1.2740\n",
            "Epoch 35/1000\n",
            "26/26 [==============================] - 0s 5ms/step - loss: 1.2740 - mse: 1.0947 - val_loss: 1.7641 - val_mse: 1.5862\n",
            "Epoch 36/1000\n",
            "26/26 [==============================] - 0s 5ms/step - loss: 1.2344 - mse: 1.0581 - val_loss: 1.0052 - val_mse: 0.8304\n",
            "Epoch 37/1000\n",
            "26/26 [==============================] - 0s 5ms/step - loss: 1.3303 - mse: 1.1568 - val_loss: 1.0216 - val_mse: 0.8493\n",
            "Epoch 38/1000\n",
            "26/26 [==============================] - 0s 5ms/step - loss: 1.0829 - mse: 0.9118 - val_loss: 1.2494 - val_mse: 1.0796\n",
            "Epoch 39/1000\n",
            "26/26 [==============================] - 0s 5ms/step - loss: 1.2449 - mse: 1.0760 - val_loss: 0.8463 - val_mse: 0.6785\n",
            "Epoch 40/1000\n",
            "26/26 [==============================] - 0s 6ms/step - loss: 1.1824 - mse: 1.0154 - val_loss: 0.9914 - val_mse: 0.8256\n",
            "Epoch 41/1000\n",
            "26/26 [==============================] - 0s 5ms/step - loss: 1.1289 - mse: 0.9638 - val_loss: 2.1788 - val_mse: 2.0146\n",
            "Epoch 42/1000\n",
            "26/26 [==============================] - 0s 5ms/step - loss: 1.1534 - mse: 0.9899 - val_loss: 0.8325 - val_mse: 0.6698\n",
            "Epoch 43/1000\n",
            "26/26 [==============================] - 0s 5ms/step - loss: 1.1459 - mse: 0.9840 - val_loss: 1.0009 - val_mse: 0.8396\n",
            "Epoch 44/1000\n",
            "26/26 [==============================] - 0s 6ms/step - loss: 1.0913 - mse: 0.9307 - val_loss: 1.4739 - val_mse: 1.3139\n",
            "Epoch 45/1000\n",
            "26/26 [==============================] - 0s 5ms/step - loss: 1.1799 - mse: 1.0208 - val_loss: 1.0836 - val_mse: 0.9251\n",
            "Epoch 46/1000\n",
            "26/26 [==============================] - 0s 6ms/step - loss: 1.0872 - mse: 0.9295 - val_loss: 1.0717 - val_mse: 0.9148\n",
            "Epoch 47/1000\n",
            "26/26 [==============================] - 0s 6ms/step - loss: 1.1332 - mse: 0.9771 - val_loss: 1.1125 - val_mse: 0.9570\n",
            "Epoch 48/1000\n",
            "26/26 [==============================] - 0s 6ms/step - loss: 1.1463 - mse: 0.9916 - val_loss: 1.5567 - val_mse: 1.4026\n",
            "Epoch 49/1000\n",
            "26/26 [==============================] - 0s 5ms/step - loss: 1.0569 - mse: 0.9037 - val_loss: 1.2993 - val_mse: 1.1468\n",
            "Epoch 50/1000\n",
            "26/26 [==============================] - 0s 5ms/step - loss: 1.1102 - mse: 0.9582 - val_loss: 0.9660 - val_mse: 0.8147\n",
            "Epoch 51/1000\n",
            "26/26 [==============================] - 0s 8ms/step - loss: 1.0550 - mse: 0.9041 - val_loss: 0.8649 - val_mse: 0.7145\n",
            "Epoch 52/1000\n",
            "26/26 [==============================] - 0s 5ms/step - loss: 1.1326 - mse: 0.9827 - val_loss: 0.8466 - val_mse: 0.6971\n",
            "Epoch 53/1000\n",
            "26/26 [==============================] - 0s 5ms/step - loss: 1.0698 - mse: 0.9209 - val_loss: 1.1672 - val_mse: 1.0185\n",
            "Epoch 54/1000\n",
            "26/26 [==============================] - 0s 5ms/step - loss: 0.9225 - mse: 0.7745 - val_loss: 1.7093 - val_mse: 1.5617\n",
            "Epoch 55/1000\n",
            "26/26 [==============================] - 0s 5ms/step - loss: 1.0730 - mse: 0.9260 - val_loss: 0.9922 - val_mse: 0.8456\n",
            "Epoch 56/1000\n",
            "26/26 [==============================] - 0s 5ms/step - loss: 1.0406 - mse: 0.8947 - val_loss: 0.8904 - val_mse: 0.7450\n",
            "Epoch 57/1000\n",
            "26/26 [==============================] - 0s 5ms/step - loss: 1.0553 - mse: 0.9107 - val_loss: 0.8011 - val_mse: 0.6571\n",
            "Epoch 58/1000\n",
            "26/26 [==============================] - 0s 7ms/step - loss: 1.0031 - mse: 0.8600 - val_loss: 0.7989 - val_mse: 0.6567\n",
            "Epoch 59/1000\n",
            "26/26 [==============================] - 0s 7ms/step - loss: 0.9938 - mse: 0.8525 - val_loss: 0.9446 - val_mse: 0.8044\n",
            "Epoch 60/1000\n",
            "26/26 [==============================] - 0s 6ms/step - loss: 0.9701 - mse: 0.8307 - val_loss: 0.9692 - val_mse: 0.8310\n",
            "Epoch 61/1000\n",
            "26/26 [==============================] - 0s 5ms/step - loss: 0.9442 - mse: 0.8066 - val_loss: 1.0967 - val_mse: 0.9603\n",
            "Epoch 62/1000\n",
            "26/26 [==============================] - 0s 5ms/step - loss: 0.9111 - mse: 0.7753 - val_loss: 0.7884 - val_mse: 0.6536\n",
            "Epoch 63/1000\n",
            "26/26 [==============================] - 0s 5ms/step - loss: 0.9540 - mse: 0.8198 - val_loss: 0.7888 - val_mse: 0.6552\n",
            "Epoch 64/1000\n",
            "26/26 [==============================] - 0s 7ms/step - loss: 0.9117 - mse: 0.7787 - val_loss: 0.8040 - val_mse: 0.6717\n",
            "Epoch 65/1000\n",
            "26/26 [==============================] - 0s 7ms/step - loss: 0.9716 - mse: 0.8398 - val_loss: 0.7785 - val_mse: 0.6471\n",
            "Epoch 66/1000\n",
            "26/26 [==============================] - 0s 6ms/step - loss: 0.8948 - mse: 0.7641 - val_loss: 0.9494 - val_mse: 0.8194\n",
            "Epoch 67/1000\n",
            "26/26 [==============================] - 0s 5ms/step - loss: 0.8423 - mse: 0.7130 - val_loss: 0.8781 - val_mse: 0.7498\n",
            "Epoch 68/1000\n",
            "26/26 [==============================] - 0s 5ms/step - loss: 0.9065 - mse: 0.7788 - val_loss: 1.2360 - val_mse: 1.1091\n",
            "Epoch 69/1000\n",
            "26/26 [==============================] - 0s 6ms/step - loss: 0.9217 - mse: 0.7950 - val_loss: 0.8760 - val_mse: 0.7495\n",
            "Epoch 70/1000\n",
            "26/26 [==============================] - 0s 6ms/step - loss: 0.8730 - mse: 0.7470 - val_loss: 1.1988 - val_mse: 1.0732\n",
            "Epoch 71/1000\n",
            "26/26 [==============================] - 0s 8ms/step - loss: 0.8488 - mse: 0.7238 - val_loss: 0.9557 - val_mse: 0.8313\n",
            "Epoch 72/1000\n",
            "26/26 [==============================] - 0s 5ms/step - loss: 0.9278 - mse: 0.8035 - val_loss: 0.8956 - val_mse: 0.7714\n",
            "Epoch 73/1000\n",
            "26/26 [==============================] - 0s 7ms/step - loss: 0.8211 - mse: 0.6972 - val_loss: 0.9282 - val_mse: 0.8045\n",
            "Epoch 74/1000\n",
            "26/26 [==============================] - 0s 5ms/step - loss: 0.8734 - mse: 0.7501 - val_loss: 1.1498 - val_mse: 1.0267\n",
            "Epoch 75/1000\n",
            "26/26 [==============================] - 0s 7ms/step - loss: 0.8175 - mse: 0.6951 - val_loss: 1.3392 - val_mse: 1.2167\n",
            "Epoch 76/1000\n",
            "26/26 [==============================] - 0s 6ms/step - loss: 0.8700 - mse: 0.7482 - val_loss: 1.2840 - val_mse: 1.1623\n",
            "Epoch 77/1000\n",
            "26/26 [==============================] - 0s 8ms/step - loss: 0.8333 - mse: 0.7121 - val_loss: 0.7861 - val_mse: 0.6652\n",
            "Epoch 78/1000\n",
            "26/26 [==============================] - 0s 5ms/step - loss: 0.8542 - mse: 0.7337 - val_loss: 1.0108 - val_mse: 0.8908\n",
            "Epoch 79/1000\n",
            "26/26 [==============================] - 0s 7ms/step - loss: 0.8084 - mse: 0.6885 - val_loss: 0.8245 - val_mse: 0.7050\n",
            "Epoch 80/1000\n",
            "26/26 [==============================] - 0s 6ms/step - loss: 0.8386 - mse: 0.7194 - val_loss: 0.8285 - val_mse: 0.7095\n",
            "Epoch 81/1000\n",
            "26/26 [==============================] - 0s 6ms/step - loss: 0.8329 - mse: 0.7140 - val_loss: 0.8293 - val_mse: 0.7106\n",
            "Epoch 82/1000\n",
            "26/26 [==============================] - 0s 6ms/step - loss: 0.8300 - mse: 0.7118 - val_loss: 0.7535 - val_mse: 0.6357\n",
            "Epoch 83/1000\n",
            "26/26 [==============================] - 0s 5ms/step - loss: 0.7634 - mse: 0.6458 - val_loss: 0.8907 - val_mse: 0.7735\n",
            "Epoch 84/1000\n",
            "26/26 [==============================] - 0s 7ms/step - loss: 0.8829 - mse: 0.7661 - val_loss: 0.7876 - val_mse: 0.6713\n",
            "Epoch 85/1000\n",
            "26/26 [==============================] - 0s 5ms/step - loss: 0.8252 - mse: 0.7091 - val_loss: 1.1152 - val_mse: 0.9990\n",
            "Epoch 86/1000\n",
            "26/26 [==============================] - 0s 7ms/step - loss: 0.7992 - mse: 0.6835 - val_loss: 1.0515 - val_mse: 0.9363\n",
            "Epoch 87/1000\n",
            "26/26 [==============================] - 0s 5ms/step - loss: 0.8248 - mse: 0.7096 - val_loss: 0.7801 - val_mse: 0.6651\n",
            "Epoch 88/1000\n",
            "26/26 [==============================] - 0s 7ms/step - loss: 0.8116 - mse: 0.6968 - val_loss: 0.7408 - val_mse: 0.6262\n",
            "Epoch 89/1000\n",
            "26/26 [==============================] - 0s 8ms/step - loss: 0.7696 - mse: 0.6552 - val_loss: 0.8521 - val_mse: 0.7381\n",
            "Epoch 90/1000\n",
            "26/26 [==============================] - 0s 5ms/step - loss: 0.7447 - mse: 0.6307 - val_loss: 1.6356 - val_mse: 1.5224\n",
            "Epoch 91/1000\n",
            "26/26 [==============================] - 0s 7ms/step - loss: 0.8452 - mse: 0.7318 - val_loss: 0.7620 - val_mse: 0.6489\n",
            "Epoch 92/1000\n",
            "26/26 [==============================] - 0s 5ms/step - loss: 0.7663 - mse: 0.6533 - val_loss: 1.1178 - val_mse: 1.0054\n",
            "Epoch 93/1000\n",
            "26/26 [==============================] - 0s 5ms/step - loss: 0.7836 - mse: 0.6711 - val_loss: 0.8088 - val_mse: 0.6965\n",
            "Epoch 94/1000\n",
            "26/26 [==============================] - 0s 5ms/step - loss: 0.7796 - mse: 0.6674 - val_loss: 0.7646 - val_mse: 0.6527\n",
            "Epoch 95/1000\n",
            "26/26 [==============================] - 0s 6ms/step - loss: 0.7679 - mse: 0.6562 - val_loss: 0.7479 - val_mse: 0.6365\n",
            "Epoch 96/1000\n",
            "26/26 [==============================] - 0s 5ms/step - loss: 0.8074 - mse: 0.6962 - val_loss: 0.8706 - val_mse: 0.7597\n",
            "Epoch 97/1000\n",
            "26/26 [==============================] - 0s 7ms/step - loss: 0.7869 - mse: 0.6760 - val_loss: 0.8474 - val_mse: 0.7366\n",
            "Epoch 98/1000\n",
            "26/26 [==============================] - 0s 5ms/step - loss: 0.7871 - mse: 0.6767 - val_loss: 0.7847 - val_mse: 0.6746\n",
            "Epoch 99/1000\n",
            "26/26 [==============================] - 0s 7ms/step - loss: 0.7818 - mse: 0.6718 - val_loss: 0.7888 - val_mse: 0.6787\n",
            "Epoch 100/1000\n",
            "26/26 [==============================] - 0s 8ms/step - loss: 0.7604 - mse: 0.6507 - val_loss: 0.9822 - val_mse: 0.8729\n",
            "Epoch 101/1000\n",
            "26/26 [==============================] - 0s 7ms/step - loss: 0.8054 - mse: 0.6961 - val_loss: 0.8562 - val_mse: 0.7470\n",
            "Epoch 102/1000\n",
            "26/26 [==============================] - 0s 5ms/step - loss: 0.7785 - mse: 0.6696 - val_loss: 0.7408 - val_mse: 0.6320\n",
            "Epoch 103/1000\n",
            "26/26 [==============================] - 0s 5ms/step - loss: 0.7774 - mse: 0.6688 - val_loss: 0.8687 - val_mse: 0.7601\n",
            "Epoch 104/1000\n",
            "26/26 [==============================] - 0s 5ms/step - loss: 0.7473 - mse: 0.6391 - val_loss: 0.7300 - val_mse: 0.6220\n",
            "Epoch 105/1000\n",
            "26/26 [==============================] - 0s 6ms/step - loss: 0.7781 - mse: 0.6705 - val_loss: 0.8218 - val_mse: 0.7144\n",
            "Epoch 106/1000\n",
            "26/26 [==============================] - 0s 7ms/step - loss: 0.7520 - mse: 0.6447 - val_loss: 0.9114 - val_mse: 0.8042\n",
            "Epoch 107/1000\n",
            "26/26 [==============================] - 0s 5ms/step - loss: 0.7546 - mse: 0.6478 - val_loss: 1.2221 - val_mse: 1.1159\n",
            "Epoch 108/1000\n",
            "26/26 [==============================] - 0s 5ms/step - loss: 0.7567 - mse: 0.6504 - val_loss: 0.9764 - val_mse: 0.8701\n",
            "Epoch 109/1000\n",
            "26/26 [==============================] - 0s 5ms/step - loss: 0.7631 - mse: 0.6572 - val_loss: 0.7411 - val_mse: 0.6353\n",
            "Epoch 110/1000\n",
            "26/26 [==============================] - 0s 7ms/step - loss: 0.7794 - mse: 0.6738 - val_loss: 0.8072 - val_mse: 0.7020\n",
            "Epoch 111/1000\n",
            "26/26 [==============================] - 0s 8ms/step - loss: 0.7846 - mse: 0.6794 - val_loss: 0.8732 - val_mse: 0.7683\n",
            "Epoch 112/1000\n",
            "26/26 [==============================] - 0s 5ms/step - loss: 0.7581 - mse: 0.6533 - val_loss: 0.7262 - val_mse: 0.6216\n",
            "Epoch 113/1000\n",
            "26/26 [==============================] - 0s 7ms/step - loss: 0.7215 - mse: 0.6172 - val_loss: 0.7476 - val_mse: 0.6434\n",
            "Epoch 114/1000\n",
            "26/26 [==============================] - 0s 7ms/step - loss: 0.7652 - mse: 0.6612 - val_loss: 0.7384 - val_mse: 0.6347\n",
            "Epoch 115/1000\n",
            "26/26 [==============================] - 0s 8ms/step - loss: 0.7569 - mse: 0.6533 - val_loss: 1.0075 - val_mse: 0.9039\n",
            "Epoch 116/1000\n",
            "26/26 [==============================] - 0s 7ms/step - loss: 0.7359 - mse: 0.6328 - val_loss: 0.9622 - val_mse: 0.8595\n",
            "Epoch 117/1000\n",
            "26/26 [==============================] - 0s 5ms/step - loss: 0.7452 - mse: 0.6424 - val_loss: 0.7740 - val_mse: 0.6714\n",
            "Epoch 118/1000\n",
            "26/26 [==============================] - 0s 6ms/step - loss: 0.7360 - mse: 0.6335 - val_loss: 0.7229 - val_mse: 0.6205\n",
            "Epoch 119/1000\n",
            "26/26 [==============================] - 0s 7ms/step - loss: 0.7297 - mse: 0.6277 - val_loss: 0.7313 - val_mse: 0.6295\n",
            "Epoch 120/1000\n",
            "26/26 [==============================] - 0s 5ms/step - loss: 0.7564 - mse: 0.6549 - val_loss: 0.8733 - val_mse: 0.7721\n",
            "Epoch 121/1000\n",
            "26/26 [==============================] - 0s 7ms/step - loss: 0.7280 - mse: 0.6268 - val_loss: 0.7356 - val_mse: 0.6347\n",
            "Epoch 122/1000\n",
            "26/26 [==============================] - 0s 5ms/step - loss: 0.7142 - mse: 0.6135 - val_loss: 0.7224 - val_mse: 0.6217\n",
            "Epoch 123/1000\n",
            "26/26 [==============================] - 0s 7ms/step - loss: 0.7244 - mse: 0.6239 - val_loss: 0.8727 - val_mse: 0.7727\n",
            "Epoch 124/1000\n",
            "26/26 [==============================] - 0s 5ms/step - loss: 0.7371 - mse: 0.6372 - val_loss: 0.7669 - val_mse: 0.6674\n",
            "Epoch 125/1000\n",
            "26/26 [==============================] - 0s 6ms/step - loss: 0.7495 - mse: 0.6502 - val_loss: 0.8854 - val_mse: 0.7862\n",
            "Epoch 126/1000\n",
            "26/26 [==============================] - 0s 7ms/step - loss: 0.7394 - mse: 0.6406 - val_loss: 0.8147 - val_mse: 0.7163\n",
            "Epoch 127/1000\n",
            "26/26 [==============================] - 0s 6ms/step - loss: 0.7306 - mse: 0.6324 - val_loss: 0.8482 - val_mse: 0.7501\n",
            "Epoch 128/1000\n",
            "26/26 [==============================] - 0s 6ms/step - loss: 0.7546 - mse: 0.6570 - val_loss: 0.7235 - val_mse: 0.6262\n",
            "Epoch 129/1000\n",
            "26/26 [==============================] - 0s 6ms/step - loss: 0.7547 - mse: 0.6578 - val_loss: 0.7796 - val_mse: 0.6831\n",
            "Epoch 130/1000\n",
            "26/26 [==============================] - 0s 7ms/step - loss: 0.7011 - mse: 0.6050 - val_loss: 1.0750 - val_mse: 0.9794\n",
            "Epoch 131/1000\n",
            "26/26 [==============================] - 0s 7ms/step - loss: 0.7308 - mse: 0.6352 - val_loss: 0.8982 - val_mse: 0.8031\n",
            "Epoch 132/1000\n",
            "26/26 [==============================] - 0s 7ms/step - loss: 0.7293 - mse: 0.6343 - val_loss: 0.9466 - val_mse: 0.8522\n",
            "Epoch 133/1000\n",
            "26/26 [==============================] - 0s 5ms/step - loss: 0.7155 - mse: 0.6210 - val_loss: 0.7975 - val_mse: 0.7033\n",
            "Epoch 134/1000\n",
            "26/26 [==============================] - 0s 6ms/step - loss: 0.7238 - mse: 0.6297 - val_loss: 0.8918 - val_mse: 0.7978\n",
            "Epoch 135/1000\n",
            "26/26 [==============================] - 0s 7ms/step - loss: 0.7177 - mse: 0.6241 - val_loss: 0.7437 - val_mse: 0.6503\n",
            "Epoch 136/1000\n",
            "26/26 [==============================] - 0s 5ms/step - loss: 0.7190 - mse: 0.6258 - val_loss: 0.7680 - val_mse: 0.6748\n",
            "Epoch 137/1000\n",
            "26/26 [==============================] - 0s 6ms/step - loss: 0.7388 - mse: 0.6459 - val_loss: 0.7373 - val_mse: 0.6446\n",
            "Epoch 138/1000\n",
            "26/26 [==============================] - 0s 6ms/step - loss: 0.7274 - mse: 0.6348 - val_loss: 0.7494 - val_mse: 0.6571\n",
            "Epoch 139/1000\n",
            "26/26 [==============================] - 0s 5ms/step - loss: 0.7107 - mse: 0.6185 - val_loss: 1.0946 - val_mse: 1.0028\n",
            "Epoch 140/1000\n",
            "26/26 [==============================] - 0s 5ms/step - loss: 0.7002 - mse: 0.6083 - val_loss: 0.7184 - val_mse: 0.6266\n",
            "Epoch 141/1000\n",
            "26/26 [==============================] - 0s 6ms/step - loss: 0.7401 - mse: 0.6484 - val_loss: 0.7685 - val_mse: 0.6769\n",
            "Epoch 142/1000\n",
            "26/26 [==============================] - 0s 5ms/step - loss: 0.6830 - mse: 0.5917 - val_loss: 0.8209 - val_mse: 0.7296\n",
            "Epoch 143/1000\n",
            "26/26 [==============================] - 0s 6ms/step - loss: 0.7125 - mse: 0.6215 - val_loss: 0.8748 - val_mse: 0.7837\n",
            "Epoch 144/1000\n",
            "26/26 [==============================] - 0s 7ms/step - loss: 0.7170 - mse: 0.6264 - val_loss: 0.7636 - val_mse: 0.6731\n",
            "Epoch 145/1000\n",
            "26/26 [==============================] - 0s 5ms/step - loss: 0.7139 - mse: 0.6235 - val_loss: 0.7160 - val_mse: 0.6259\n",
            "Epoch 146/1000\n",
            "26/26 [==============================] - 0s 5ms/step - loss: 0.6739 - mse: 0.5839 - val_loss: 0.9371 - val_mse: 0.8471\n",
            "Epoch 147/1000\n",
            "26/26 [==============================] - 0s 5ms/step - loss: 0.7266 - mse: 0.6370 - val_loss: 0.7240 - val_mse: 0.6347\n",
            "Epoch 148/1000\n",
            "26/26 [==============================] - 0s 5ms/step - loss: 0.7101 - mse: 0.6209 - val_loss: 0.7791 - val_mse: 0.6900\n",
            "Epoch 149/1000\n",
            "26/26 [==============================] - 0s 8ms/step - loss: 0.6987 - mse: 0.6098 - val_loss: 0.8194 - val_mse: 0.7305\n",
            "Epoch 150/1000\n",
            "26/26 [==============================] - 0s 5ms/step - loss: 0.6740 - mse: 0.5856 - val_loss: 0.7430 - val_mse: 0.6545\n",
            "Epoch 151/1000\n",
            "26/26 [==============================] - 0s 7ms/step - loss: 0.7186 - mse: 0.6304 - val_loss: 0.7856 - val_mse: 0.6977\n",
            "Epoch 152/1000\n",
            "26/26 [==============================] - 0s 6ms/step - loss: 0.6859 - mse: 0.5981 - val_loss: 0.7060 - val_mse: 0.6184\n",
            "Epoch 153/1000\n",
            "26/26 [==============================] - 0s 5ms/step - loss: 0.6961 - mse: 0.6086 - val_loss: 0.7233 - val_mse: 0.6361\n",
            "Epoch 154/1000\n",
            "26/26 [==============================] - 0s 7ms/step - loss: 0.6834 - mse: 0.5963 - val_loss: 0.8304 - val_mse: 0.7433\n",
            "Epoch 155/1000\n",
            "26/26 [==============================] - 0s 6ms/step - loss: 0.7137 - mse: 0.6268 - val_loss: 0.9619 - val_mse: 0.8753\n",
            "Epoch 156/1000\n",
            "26/26 [==============================] - 0s 6ms/step - loss: 0.6830 - mse: 0.5963 - val_loss: 1.1735 - val_mse: 1.0875\n",
            "Epoch 157/1000\n",
            "26/26 [==============================] - 0s 5ms/step - loss: 0.7144 - mse: 0.6280 - val_loss: 0.8692 - val_mse: 0.7831\n",
            "Epoch 158/1000\n",
            "26/26 [==============================] - 0s 5ms/step - loss: 0.6785 - mse: 0.5923 - val_loss: 0.7022 - val_mse: 0.6161\n",
            "Epoch 159/1000\n",
            "26/26 [==============================] - 0s 7ms/step - loss: 0.6850 - mse: 0.5990 - val_loss: 0.9356 - val_mse: 0.8496\n",
            "Epoch 160/1000\n",
            "26/26 [==============================] - 0s 7ms/step - loss: 0.7107 - mse: 0.6251 - val_loss: 0.7129 - val_mse: 0.6274\n",
            "Epoch 161/1000\n",
            "26/26 [==============================] - 0s 8ms/step - loss: 0.6841 - mse: 0.5988 - val_loss: 0.9378 - val_mse: 0.8529\n",
            "Epoch 162/1000\n",
            "26/26 [==============================] - 0s 8ms/step - loss: 0.6909 - mse: 0.6058 - val_loss: 0.8842 - val_mse: 0.7991\n",
            "Epoch 163/1000\n",
            "26/26 [==============================] - 0s 5ms/step - loss: 0.7159 - mse: 0.6311 - val_loss: 0.7025 - val_mse: 0.6178\n",
            "Epoch 164/1000\n",
            "26/26 [==============================] - 0s 6ms/step - loss: 0.7046 - mse: 0.6201 - val_loss: 0.7687 - val_mse: 0.6845\n",
            "Epoch 165/1000\n",
            "26/26 [==============================] - 0s 7ms/step - loss: 0.6878 - mse: 0.6036 - val_loss: 0.8011 - val_mse: 0.7169\n",
            "Epoch 166/1000\n",
            "26/26 [==============================] - 0s 6ms/step - loss: 0.6689 - mse: 0.5850 - val_loss: 0.7012 - val_mse: 0.6174\n",
            "Epoch 167/1000\n",
            "26/26 [==============================] - 0s 7ms/step - loss: 0.6655 - mse: 0.5818 - val_loss: 0.7829 - val_mse: 0.6993\n",
            "Epoch 168/1000\n",
            "26/26 [==============================] - 0s 7ms/step - loss: 0.6986 - mse: 0.6152 - val_loss: 0.7018 - val_mse: 0.6186\n",
            "Epoch 169/1000\n",
            "26/26 [==============================] - 0s 7ms/step - loss: 0.7016 - mse: 0.6184 - val_loss: 0.8659 - val_mse: 0.7827\n",
            "Epoch 170/1000\n",
            "26/26 [==============================] - 0s 6ms/step - loss: 0.6720 - mse: 0.5892 - val_loss: 0.9757 - val_mse: 0.8933\n",
            "Epoch 171/1000\n",
            "26/26 [==============================] - 0s 6ms/step - loss: 0.6947 - mse: 0.6122 - val_loss: 0.7119 - val_mse: 0.6293\n",
            "Epoch 172/1000\n",
            "26/26 [==============================] - 0s 8ms/step - loss: 0.6811 - mse: 0.5989 - val_loss: 0.7111 - val_mse: 0.6290\n",
            "Epoch 173/1000\n",
            "26/26 [==============================] - 0s 6ms/step - loss: 0.7013 - mse: 0.6192 - val_loss: 0.7984 - val_mse: 0.7166\n",
            "Epoch 174/1000\n",
            "26/26 [==============================] - 0s 6ms/step - loss: 0.6794 - mse: 0.5976 - val_loss: 0.7311 - val_mse: 0.6494\n",
            "Epoch 175/1000\n",
            "26/26 [==============================] - 0s 6ms/step - loss: 0.6850 - mse: 0.6035 - val_loss: 0.7118 - val_mse: 0.6306\n",
            "Epoch 176/1000\n",
            "26/26 [==============================] - 0s 5ms/step - loss: 0.6775 - mse: 0.5963 - val_loss: 0.9742 - val_mse: 0.8930\n",
            "Epoch 177/1000\n",
            "26/26 [==============================] - 0s 6ms/step - loss: 0.6838 - mse: 0.6030 - val_loss: 0.7291 - val_mse: 0.6485\n",
            "Epoch 178/1000\n",
            "26/26 [==============================] - 0s 6ms/step - loss: 0.6956 - mse: 0.6150 - val_loss: 0.7049 - val_mse: 0.6244\n",
            "Epoch 179/1000\n",
            "26/26 [==============================] - 0s 6ms/step - loss: 0.6684 - mse: 0.5881 - val_loss: 0.7699 - val_mse: 0.6898\n",
            "Epoch 180/1000\n",
            "26/26 [==============================] - 0s 8ms/step - loss: 0.6933 - mse: 0.6132 - val_loss: 0.7029 - val_mse: 0.6228\n",
            "Epoch 181/1000\n",
            "26/26 [==============================] - 0s 6ms/step - loss: 0.6734 - mse: 0.5935 - val_loss: 0.8444 - val_mse: 0.7645\n",
            "Epoch 182/1000\n",
            "26/26 [==============================] - 0s 7ms/step - loss: 0.6796 - mse: 0.6000 - val_loss: 0.9057 - val_mse: 0.8260\n",
            "Epoch 183/1000\n",
            "26/26 [==============================] - 0s 8ms/step - loss: 0.6767 - mse: 0.5974 - val_loss: 0.8379 - val_mse: 0.7585\n",
            "Epoch 184/1000\n",
            "26/26 [==============================] - 0s 8ms/step - loss: 0.6856 - mse: 0.6066 - val_loss: 0.7183 - val_mse: 0.6393\n",
            "Epoch 185/1000\n",
            "26/26 [==============================] - 0s 7ms/step - loss: 0.6744 - mse: 0.5956 - val_loss: 0.8857 - val_mse: 0.8068\n",
            "Epoch 186/1000\n",
            "26/26 [==============================] - 0s 6ms/step - loss: 0.6703 - mse: 0.5918 - val_loss: 0.7251 - val_mse: 0.6468\n",
            "Epoch 00186: early stopping\n"
          ]
        }
      ]
    },
    {
      "cell_type": "code",
      "metadata": {
        "colab": {
          "base_uri": "https://localhost:8080/",
          "height": 295
        },
        "id": "4A4xwonqKuTl",
        "outputId": "170c61db-7953-4e7f-af9a-5b3a8a38564b"
      },
      "source": [
        "import keras\n",
        "from matplotlib import pyplot as plt\n",
        "plt.plot(history.history['mse'])\n",
        "plt.plot(history.history['val_mse'])\n",
        "plt.title('model accuracy')\n",
        "plt.ylabel('accuracy')\n",
        "plt.xlabel('epoch')\n",
        "plt.legend(['train', 'val'], loc='upper left')\n",
        "plt.show()"
      ],
      "execution_count": 15,
      "outputs": [
        {
          "output_type": "display_data",
          "data": {
            "image/png": "[encoded data removed]",
            "text/plain": [
              "<Figure size 432x288 with 1 Axes>"
            ]
          },
          "metadata": {
            "needs_background": "light"
          }
        }
      ]
    },
    {
      "cell_type": "code",
      "metadata": {
        "id": "CUlF0_zWF-bV"
      },
      "source": [
        ""
      ],
      "execution_count": null,
      "outputs": []
    },
    {
      "cell_type": "code",
      "metadata": {
        "colab": {
          "base_uri": "https://localhost:8080/"
        },
        "id": "ynIjUO4ZSrDG",
        "outputId": "61b2a6d1-1e3c-419d-9ed8-f5b2a14ba66d"
      },
      "source": [
        "from sklearn.metrics import mean_squared_error\n",
        "import math\n",
        "\n",
        "results = model.evaluate(x_test, y_test, batch_size=128)\n",
        "yhat = model.predict(x_test)\n",
        "mse = mean_squared_error(y_test, yhat)\n",
        "rmse = math. sqrt(mse)\n",
        "print(\"rmse\",rmse)\n"
      ],
      "execution_count": 16,
      "outputs": [
        {
          "output_type": "stream",
          "name": "stdout",
          "text": [
            "13/13 [==============================] - 0s 3ms/step - loss: 0.7251 - mse: 0.6468\n",
            "rmse 0.804221411553339\n"
          ]
        }
      ]
    },
    {
      "cell_type": "code",
      "metadata": {
        "id": "kcr8sV_xLaAK"
      },
      "source": [
        ""
      ],
      "execution_count": 16,
      "outputs": []
    }
  ]
}