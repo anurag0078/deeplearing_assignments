{
  "nbformat": 4,
  "nbformat_minor": 0,
  "metadata": {
    "colab": {
      "name": "boston_house_regression",
      "provenance": [],
      "authorship_tag": "ABX9TyMH5tRER3HuvDKhDSR0G2jH",
      "include_colab_link": true
    },
    "kernelspec": {
      "name": "python3",
      "display_name": "Python 3"
    },
    "language_info": {
      "name": "python"
    },
    "accelerator": "GPU"
  },
  "cells": [
    {
      "cell_type": "markdown",
      "metadata": {
        "id": "view-in-github",
        "colab_type": "text"
      },
      "source": [
        "<a href=\"https://colab.research.google.com/github/anurag0078/deeplearing_assignments/blob/main/boston_house_regression.ipynb\" target=\"_parent\"><img src=\"https://colab.research.google.com/assets/colab-badge.svg\" alt=\"Open In Colab\"/></a>"
      ]
    },
    {
      "cell_type": "code",
      "metadata": {
        "colab": {
          "base_uri": "https://localhost:8080/"
        },
        "id": "3_wXdUeL9Y4U",
        "outputId": "a3887c95-aeae-4552-d09e-be5b097aa158"
      },
      "source": [
        "from google.colab import drive\n",
        "drive.mount('/content/gdrive')"
      ],
      "execution_count": 1,
      "outputs": [
        {
          "output_type": "stream",
          "name": "stdout",
          "text": [
            "Drive already mounted at /content/gdrive; to attempt to forcibly remount, call drive.mount(\"/content/gdrive\", force_remount=True).\n"
          ]
        }
      ]
    },
    {
      "cell_type": "code",
      "metadata": {
        "id": "7O54ni1i9nyT"
      },
      "source": [
        "data_path=\"/content/gdrive/MyDrive/deep learning/assignment1/housing.data\""
      ],
      "execution_count": 2,
      "outputs": []
    },
    {
      "cell_type": "code",
      "metadata": {
        "id": "KdqEg5Zm-IXu"
      },
      "source": [
        "\n",
        "from pandas import read_csv\n",
        "from keras.models import Sequential\n",
        "from keras.layers import Dense\n",
        "from keras.wrappers.scikit_learn import KerasRegressor\n",
        "from sklearn.model_selection import cross_val_score\n",
        "from sklearn.model_selection import KFold"
      ],
      "execution_count": 3,
      "outputs": []
    },
    {
      "cell_type": "code",
      "metadata": {
        "colab": {
          "base_uri": "https://localhost:8080/"
        },
        "id": "l7l7Otuz-O-v",
        "outputId": "6184841a-2522-44e9-b6f8-07007dcbd438"
      },
      "source": [
        "#reading data set\n",
        "dataframe = read_csv(data_path, delim_whitespace=True, header=None)\n",
        "dataset = dataframe.values\n",
        "print(dataset)"
      ],
      "execution_count": 4,
      "outputs": [
        {
          "output_type": "stream",
          "name": "stdout",
          "text": [
            "[[6.3200e-03 1.8000e+01 2.3100e+00 ... 3.9690e+02 4.9800e+00 2.4000e+01]\n",
            " [2.7310e-02 0.0000e+00 7.0700e+00 ... 3.9690e+02 9.1400e+00 2.1600e+01]\n",
            " [2.7290e-02 0.0000e+00 7.0700e+00 ... 3.9283e+02 4.0300e+00 3.4700e+01]\n",
            " ...\n",
            " [6.0760e-02 0.0000e+00 1.1930e+01 ... 3.9690e+02 5.6400e+00 2.3900e+01]\n",
            " [1.0959e-01 0.0000e+00 1.1930e+01 ... 3.9345e+02 6.4800e+00 2.2000e+01]\n",
            " [4.7410e-02 0.0000e+00 1.1930e+01 ... 3.9690e+02 7.8800e+00 1.1900e+01]]\n"
          ]
        }
      ]
    },
    {
      "cell_type": "code",
      "metadata": {
        "id": "ZYXJx-Dc-2lz"
      },
      "source": [
        "# split (X) and (Y) variables for regression\n",
        "X = dataset[:,0:13]\n",
        "Y = dataset[:,13]\n"
      ],
      "execution_count": 5,
      "outputs": []
    },
    {
      "cell_type": "code",
      "metadata": {
        "id": "1x61saPMBA4m"
      },
      "source": [
        "from sklearn.model_selection import train_test_split\n",
        "x_train , x_test , y_train , y_test = train_test_split(X ,Y , test_size = 0.10,random_state =2)"
      ],
      "execution_count": 6,
      "outputs": []
    },
    {
      "cell_type": "code",
      "metadata": {
        "id": "57_bogjoB4oC"
      },
      "source": [
        "from tensorflow.keras.models import Sequential\n",
        "from tensorflow.keras.layers import Dense\n",
        "from tensorflow.keras.optimizers import Adam\n",
        "from tensorflow.keras.layers import Dropout\n",
        "model = Sequential()\n",
        "model.add(Dense(64, input_dim=13, activation='relu', kernel_regularizer='l2'))\n",
        "model.add(Dropout(0.3))\n",
        "model.add(Dense(32, activation='relu', kernel_regularizer='l1'))\n",
        "model.add(Dropout(0.2))\n",
        "model.add(Dense(8, activation='relu', kernel_regularizer='l1'))\n",
        "model.add(Dropout(0.2))\n",
        "model.add(Dense(1, activation='relu'))\n",
        "\n",
        "# model = Sequential() \n",
        "\n",
        "# model.add(Dense(13,activation='relu'))\n",
        "# model.add(Dropout(0.2))\n",
        "# model.add(Dense(5,activation='relu'))\n",
        "# model.add(Dropout(0.2))\n",
        "# model.add(Dense(1))\n",
        "\n",
        "model.compile(optimizer='adam', loss='mse')"
      ],
      "execution_count": 7,
      "outputs": []
    },
    {
      "cell_type": "markdown",
      "metadata": {
        "id": "77U5RAD_d8fC"
      },
      "source": [
        "model = Sequential() #Create your base model\n",
        "model.add(Dense(13,activation='relu')) #Add layer with 8 nodes\n",
        "model.add(Dropout(0.2))# Add 50% Dropout\n",
        "model.add(Dense(5,activation='relu'))\n",
        "model.add(Dropout(0.2))\n",
        "model.add(Dense(1))"
      ]
    },
    {
      "cell_type": "code",
      "metadata": {
        "id": "ecR6N80zCVaW"
      },
      "source": [
        "from sklearn.preprocessing import MinMaxScaler\n",
        "scaler = MinMaxScaler()\n",
        "x_train= scaler.fit_transform(x_train)\n",
        "x_test = scaler.transform(x_test)"
      ],
      "execution_count": 8,
      "outputs": []
    },
    {
      "cell_type": "code",
      "metadata": {
        "colab": {
          "base_uri": "https://localhost:8080/"
        },
        "id": "sE30QOjCCZXX",
        "outputId": "8caed27c-d1c9-436c-832b-c000d2526ab8"
      },
      "source": [
        "from tensorflow.keras.callbacks import EarlyStopping\n",
        "early_stop = EarlyStopping(monitor='val_loss', mode='min', verbose=1, patience=10)\n",
        "\n",
        "import tensorflow as tf\n",
        "\n",
        "with tf.device('/gpu:0'):\n",
        "  history=model.fit(x=x_train,y=y_train,\n",
        "            validation_data=(x_test,y_test),\n",
        "            batch_size=128,epochs=1000, callbacks=[early_stop])"
      ],
      "execution_count": 9,
      "outputs": [
        {
          "output_type": "stream",
          "name": "stdout",
          "text": [
            "Epoch 1/1000\n",
            "4/4 [==============================] - 1s 64ms/step - loss: 592.6712 - val_loss: 539.0527\n",
            "Epoch 2/1000\n",
            "4/4 [==============================] - 0s 16ms/step - loss: 586.8239 - val_loss: 532.4767\n",
            "Epoch 3/1000\n",
            "4/4 [==============================] - 0s 11ms/step - loss: 580.0212 - val_loss: 524.6239\n",
            "Epoch 4/1000\n",
            "4/4 [==============================] - 0s 10ms/step - loss: 571.5139 - val_loss: 515.3488\n",
            "Epoch 5/1000\n",
            "4/4 [==============================] - 0s 10ms/step - loss: 560.4242 - val_loss: 504.0657\n",
            "Epoch 6/1000\n",
            "4/4 [==============================] - 0s 10ms/step - loss: 547.7510 - val_loss: 490.4169\n",
            "Epoch 7/1000\n",
            "4/4 [==============================] - 0s 10ms/step - loss: 532.5967 - val_loss: 474.1759\n",
            "Epoch 8/1000\n",
            "4/4 [==============================] - 0s 11ms/step - loss: 514.7370 - val_loss: 455.0537\n",
            "Epoch 9/1000\n",
            "4/4 [==============================] - 0s 10ms/step - loss: 496.1931 - val_loss: 432.4536\n",
            "Epoch 10/1000\n",
            "4/4 [==============================] - 0s 10ms/step - loss: 472.7718 - val_loss: 406.0067\n",
            "Epoch 11/1000\n",
            "4/4 [==============================] - 0s 12ms/step - loss: 443.7988 - val_loss: 375.4923\n",
            "Epoch 12/1000\n",
            "4/4 [==============================] - 0s 10ms/step - loss: 406.7416 - val_loss: 341.2905\n",
            "Epoch 13/1000\n",
            "4/4 [==============================] - 0s 10ms/step - loss: 374.9767 - val_loss: 304.1116\n",
            "Epoch 14/1000\n",
            "4/4 [==============================] - 0s 10ms/step - loss: 337.2912 - val_loss: 265.0542\n",
            "Epoch 15/1000\n",
            "4/4 [==============================] - 0s 12ms/step - loss: 299.7852 - val_loss: 225.7796\n",
            "Epoch 16/1000\n",
            "4/4 [==============================] - 0s 10ms/step - loss: 262.2015 - val_loss: 189.1771\n",
            "Epoch 17/1000\n",
            "4/4 [==============================] - 0s 11ms/step - loss: 228.3062 - val_loss: 158.2279\n",
            "Epoch 18/1000\n",
            "4/4 [==============================] - 0s 14ms/step - loss: 192.3497 - val_loss: 135.8861\n",
            "Epoch 19/1000\n",
            "4/4 [==============================] - 0s 11ms/step - loss: 163.5084 - val_loss: 123.6151\n",
            "Epoch 20/1000\n",
            "4/4 [==============================] - 0s 10ms/step - loss: 170.1095 - val_loss: 118.9736\n",
            "Epoch 21/1000\n",
            "4/4 [==============================] - 0s 10ms/step - loss: 165.8041 - val_loss: 115.3079\n",
            "Epoch 22/1000\n",
            "4/4 [==============================] - 0s 10ms/step - loss: 160.3628 - val_loss: 110.2095\n",
            "Epoch 23/1000\n",
            "4/4 [==============================] - 0s 12ms/step - loss: 156.8713 - val_loss: 103.2977\n",
            "Epoch 24/1000\n",
            "4/4 [==============================] - 0s 14ms/step - loss: 138.6825 - val_loss: 96.7213\n",
            "Epoch 25/1000\n",
            "4/4 [==============================] - 0s 11ms/step - loss: 154.4364 - val_loss: 91.4766\n",
            "Epoch 26/1000\n",
            "4/4 [==============================] - 0s 10ms/step - loss: 135.7229 - val_loss: 86.9728\n",
            "Epoch 27/1000\n",
            "4/4 [==============================] - 0s 11ms/step - loss: 125.6637 - val_loss: 83.1443\n",
            "Epoch 28/1000\n",
            "4/4 [==============================] - 0s 10ms/step - loss: 136.3500 - val_loss: 79.1893\n",
            "Epoch 29/1000\n",
            "4/4 [==============================] - 0s 10ms/step - loss: 131.6840 - val_loss: 75.2584\n",
            "Epoch 30/1000\n",
            "4/4 [==============================] - 0s 10ms/step - loss: 131.5178 - val_loss: 71.1870\n",
            "Epoch 31/1000\n",
            "4/4 [==============================] - 0s 11ms/step - loss: 114.8420 - val_loss: 67.5673\n",
            "Epoch 32/1000\n",
            "4/4 [==============================] - 0s 9ms/step - loss: 120.6288 - val_loss: 64.2959\n",
            "Epoch 33/1000\n",
            "4/4 [==============================] - 0s 10ms/step - loss: 118.5223 - val_loss: 61.3487\n",
            "Epoch 34/1000\n",
            "4/4 [==============================] - 0s 11ms/step - loss: 105.4558 - val_loss: 58.5181\n",
            "Epoch 35/1000\n",
            "4/4 [==============================] - 0s 17ms/step - loss: 107.7210 - val_loss: 56.1100\n",
            "Epoch 36/1000\n",
            "4/4 [==============================] - 0s 10ms/step - loss: 114.3389 - val_loss: 53.9919\n",
            "Epoch 37/1000\n",
            "4/4 [==============================] - 0s 13ms/step - loss: 116.4370 - val_loss: 51.6304\n",
            "Epoch 38/1000\n",
            "4/4 [==============================] - 0s 11ms/step - loss: 113.7582 - val_loss: 49.6275\n",
            "Epoch 39/1000\n",
            "4/4 [==============================] - 0s 10ms/step - loss: 97.1086 - val_loss: 47.9296\n",
            "Epoch 40/1000\n",
            "4/4 [==============================] - 0s 11ms/step - loss: 107.6852 - val_loss: 46.5555\n",
            "Epoch 41/1000\n",
            "4/4 [==============================] - 0s 10ms/step - loss: 106.9090 - val_loss: 45.6657\n",
            "Epoch 42/1000\n",
            "4/4 [==============================] - 0s 11ms/step - loss: 103.6970 - val_loss: 44.7124\n",
            "Epoch 43/1000\n",
            "4/4 [==============================] - 0s 10ms/step - loss: 93.1734 - val_loss: 43.7505\n",
            "Epoch 44/1000\n",
            "4/4 [==============================] - 0s 10ms/step - loss: 92.8754 - val_loss: 42.9081\n",
            "Epoch 45/1000\n",
            "4/4 [==============================] - 0s 10ms/step - loss: 97.9481 - val_loss: 42.1362\n",
            "Epoch 46/1000\n",
            "4/4 [==============================] - 0s 10ms/step - loss: 116.2727 - val_loss: 41.1575\n",
            "Epoch 47/1000\n",
            "4/4 [==============================] - 0s 10ms/step - loss: 94.0531 - val_loss: 41.0855\n",
            "Epoch 48/1000\n",
            "4/4 [==============================] - 0s 11ms/step - loss: 93.1995 - val_loss: 40.7933\n",
            "Epoch 49/1000\n",
            "4/4 [==============================] - 0s 13ms/step - loss: 90.9328 - val_loss: 39.7714\n",
            "Epoch 50/1000\n",
            "4/4 [==============================] - 0s 12ms/step - loss: 92.8218 - val_loss: 39.0036\n",
            "Epoch 51/1000\n",
            "4/4 [==============================] - 0s 11ms/step - loss: 88.2507 - val_loss: 38.2053\n",
            "Epoch 52/1000\n",
            "4/4 [==============================] - 0s 14ms/step - loss: 86.7674 - val_loss: 37.6748\n",
            "Epoch 53/1000\n",
            "4/4 [==============================] - 0s 10ms/step - loss: 93.4194 - val_loss: 37.3860\n",
            "Epoch 54/1000\n",
            "4/4 [==============================] - 0s 12ms/step - loss: 92.7985 - val_loss: 37.1723\n",
            "Epoch 55/1000\n",
            "4/4 [==============================] - 0s 10ms/step - loss: 92.5960 - val_loss: 37.6178\n",
            "Epoch 56/1000\n",
            "4/4 [==============================] - 0s 11ms/step - loss: 86.4952 - val_loss: 37.3922\n",
            "Epoch 57/1000\n",
            "4/4 [==============================] - 0s 11ms/step - loss: 84.5360 - val_loss: 36.5502\n",
            "Epoch 58/1000\n",
            "4/4 [==============================] - 0s 11ms/step - loss: 88.3340 - val_loss: 34.8325\n",
            "Epoch 59/1000\n",
            "4/4 [==============================] - 0s 11ms/step - loss: 80.6831 - val_loss: 34.1077\n",
            "Epoch 60/1000\n",
            "4/4 [==============================] - 0s 11ms/step - loss: 86.6335 - val_loss: 33.5589\n",
            "Epoch 61/1000\n",
            "4/4 [==============================] - 0s 12ms/step - loss: 87.3576 - val_loss: 33.5629\n",
            "Epoch 62/1000\n",
            "4/4 [==============================] - 0s 11ms/step - loss: 89.6082 - val_loss: 33.4303\n",
            "Epoch 63/1000\n",
            "4/4 [==============================] - 0s 10ms/step - loss: 83.8072 - val_loss: 32.8078\n",
            "Epoch 64/1000\n",
            "4/4 [==============================] - 0s 12ms/step - loss: 84.1862 - val_loss: 32.0858\n",
            "Epoch 65/1000\n",
            "4/4 [==============================] - 0s 18ms/step - loss: 85.1563 - val_loss: 31.7883\n",
            "Epoch 66/1000\n",
            "4/4 [==============================] - 0s 12ms/step - loss: 76.9433 - val_loss: 31.3593\n",
            "Epoch 67/1000\n",
            "4/4 [==============================] - 0s 10ms/step - loss: 78.3278 - val_loss: 31.1534\n",
            "Epoch 68/1000\n",
            "4/4 [==============================] - 0s 10ms/step - loss: 77.3177 - val_loss: 31.2058\n",
            "Epoch 69/1000\n",
            "4/4 [==============================] - 0s 12ms/step - loss: 81.2392 - val_loss: 31.2777\n",
            "Epoch 70/1000\n",
            "4/4 [==============================] - 0s 11ms/step - loss: 75.1899 - val_loss: 30.7135\n",
            "Epoch 71/1000\n",
            "4/4 [==============================] - 0s 12ms/step - loss: 83.7777 - val_loss: 29.7735\n",
            "Epoch 72/1000\n",
            "4/4 [==============================] - 0s 17ms/step - loss: 81.5891 - val_loss: 29.3675\n",
            "Epoch 73/1000\n",
            "4/4 [==============================] - 0s 11ms/step - loss: 78.6084 - val_loss: 28.8769\n",
            "Epoch 74/1000\n",
            "4/4 [==============================] - 0s 12ms/step - loss: 71.5393 - val_loss: 28.2656\n",
            "Epoch 75/1000\n",
            "4/4 [==============================] - 0s 10ms/step - loss: 87.2496 - val_loss: 27.9462\n",
            "Epoch 76/1000\n",
            "4/4 [==============================] - 0s 10ms/step - loss: 71.4046 - val_loss: 27.9959\n",
            "Epoch 77/1000\n",
            "4/4 [==============================] - 0s 10ms/step - loss: 82.3351 - val_loss: 28.4091\n",
            "Epoch 78/1000\n",
            "4/4 [==============================] - 0s 10ms/step - loss: 82.8825 - val_loss: 27.8804\n",
            "Epoch 79/1000\n",
            "4/4 [==============================] - 0s 11ms/step - loss: 74.1675 - val_loss: 27.4804\n",
            "Epoch 80/1000\n",
            "4/4 [==============================] - 0s 11ms/step - loss: 72.3999 - val_loss: 27.8299\n",
            "Epoch 81/1000\n",
            "4/4 [==============================] - 0s 12ms/step - loss: 68.7830 - val_loss: 28.3051\n",
            "Epoch 82/1000\n",
            "4/4 [==============================] - 0s 17ms/step - loss: 70.7479 - val_loss: 27.1469\n",
            "Epoch 83/1000\n",
            "4/4 [==============================] - 0s 12ms/step - loss: 67.9043 - val_loss: 25.7784\n",
            "Epoch 84/1000\n",
            "4/4 [==============================] - 0s 13ms/step - loss: 67.5079 - val_loss: 25.4627\n",
            "Epoch 85/1000\n",
            "4/4 [==============================] - 0s 11ms/step - loss: 73.6966 - val_loss: 25.2561\n",
            "Epoch 86/1000\n",
            "4/4 [==============================] - 0s 17ms/step - loss: 64.7353 - val_loss: 25.9530\n",
            "Epoch 87/1000\n",
            "4/4 [==============================] - 0s 12ms/step - loss: 65.0470 - val_loss: 26.4891\n",
            "Epoch 88/1000\n",
            "4/4 [==============================] - 0s 12ms/step - loss: 68.1166 - val_loss: 25.5539\n",
            "Epoch 89/1000\n",
            "4/4 [==============================] - 0s 12ms/step - loss: 69.6121 - val_loss: 24.5386\n",
            "Epoch 90/1000\n",
            "4/4 [==============================] - 0s 10ms/step - loss: 66.7511 - val_loss: 24.2893\n",
            "Epoch 91/1000\n",
            "4/4 [==============================] - 0s 13ms/step - loss: 66.4025 - val_loss: 24.2664\n",
            "Epoch 92/1000\n",
            "4/4 [==============================] - 0s 15ms/step - loss: 75.6485 - val_loss: 24.3356\n",
            "Epoch 93/1000\n",
            "4/4 [==============================] - 0s 12ms/step - loss: 74.6406 - val_loss: 24.2598\n",
            "Epoch 94/1000\n",
            "4/4 [==============================] - 0s 11ms/step - loss: 70.9434 - val_loss: 24.3441\n",
            "Epoch 95/1000\n",
            "4/4 [==============================] - 0s 11ms/step - loss: 68.7270 - val_loss: 24.0329\n",
            "Epoch 96/1000\n",
            "4/4 [==============================] - 0s 11ms/step - loss: 62.6430 - val_loss: 24.3639\n",
            "Epoch 97/1000\n",
            "4/4 [==============================] - 0s 10ms/step - loss: 73.7827 - val_loss: 23.6899\n",
            "Epoch 98/1000\n",
            "4/4 [==============================] - 0s 11ms/step - loss: 65.9796 - val_loss: 23.0490\n",
            "Epoch 99/1000\n",
            "4/4 [==============================] - 0s 12ms/step - loss: 71.8167 - val_loss: 22.9061\n",
            "Epoch 100/1000\n",
            "4/4 [==============================] - 0s 11ms/step - loss: 64.5190 - val_loss: 22.8873\n",
            "Epoch 101/1000\n",
            "4/4 [==============================] - 0s 10ms/step - loss: 61.8524 - val_loss: 23.1192\n",
            "Epoch 102/1000\n",
            "4/4 [==============================] - 0s 12ms/step - loss: 65.0838 - val_loss: 22.9182\n",
            "Epoch 103/1000\n",
            "4/4 [==============================] - 0s 14ms/step - loss: 61.0846 - val_loss: 22.4901\n",
            "Epoch 104/1000\n",
            "4/4 [==============================] - 0s 12ms/step - loss: 67.9657 - val_loss: 22.8353\n",
            "Epoch 105/1000\n",
            "4/4 [==============================] - 0s 13ms/step - loss: 62.6137 - val_loss: 22.9868\n",
            "Epoch 106/1000\n",
            "4/4 [==============================] - 0s 12ms/step - loss: 62.4429 - val_loss: 22.1328\n",
            "Epoch 107/1000\n",
            "4/4 [==============================] - 0s 10ms/step - loss: 70.6528 - val_loss: 21.8030\n",
            "Epoch 108/1000\n",
            "4/4 [==============================] - 0s 12ms/step - loss: 63.7655 - val_loss: 21.7730\n",
            "Epoch 109/1000\n",
            "4/4 [==============================] - 0s 11ms/step - loss: 60.6234 - val_loss: 22.3912\n",
            "Epoch 110/1000\n",
            "4/4 [==============================] - 0s 10ms/step - loss: 68.7615 - val_loss: 24.0601\n",
            "Epoch 111/1000\n",
            "4/4 [==============================] - 0s 11ms/step - loss: 74.8467 - val_loss: 22.9629\n",
            "Epoch 112/1000\n",
            "4/4 [==============================] - 0s 12ms/step - loss: 66.5829 - val_loss: 21.5243\n",
            "Epoch 113/1000\n",
            "4/4 [==============================] - 0s 11ms/step - loss: 64.9426 - val_loss: 21.1904\n",
            "Epoch 114/1000\n",
            "4/4 [==============================] - 0s 12ms/step - loss: 66.1825 - val_loss: 21.3056\n",
            "Epoch 115/1000\n",
            "4/4 [==============================] - 0s 13ms/step - loss: 73.9784 - val_loss: 21.3876\n",
            "Epoch 116/1000\n",
            "4/4 [==============================] - 0s 12ms/step - loss: 68.5960 - val_loss: 20.6496\n",
            "Epoch 117/1000\n",
            "4/4 [==============================] - 0s 11ms/step - loss: 73.3826 - val_loss: 20.3046\n",
            "Epoch 118/1000\n",
            "4/4 [==============================] - 0s 11ms/step - loss: 62.0807 - val_loss: 20.2789\n",
            "Epoch 119/1000\n",
            "4/4 [==============================] - 0s 12ms/step - loss: 62.3493 - val_loss: 19.9724\n",
            "Epoch 120/1000\n",
            "4/4 [==============================] - 0s 12ms/step - loss: 60.0074 - val_loss: 19.9003\n",
            "Epoch 121/1000\n",
            "4/4 [==============================] - 0s 13ms/step - loss: 59.3756 - val_loss: 20.0180\n",
            "Epoch 122/1000\n",
            "4/4 [==============================] - 0s 12ms/step - loss: 56.6839 - val_loss: 20.2542\n",
            "Epoch 123/1000\n",
            "4/4 [==============================] - 0s 12ms/step - loss: 60.6177 - val_loss: 20.7527\n",
            "Epoch 124/1000\n",
            "4/4 [==============================] - 0s 11ms/step - loss: 59.3551 - val_loss: 21.3610\n",
            "Epoch 125/1000\n",
            "4/4 [==============================] - 0s 10ms/step - loss: 70.9050 - val_loss: 20.7495\n",
            "Epoch 126/1000\n",
            "4/4 [==============================] - 0s 10ms/step - loss: 67.0467 - val_loss: 20.1250\n",
            "Epoch 127/1000\n",
            "4/4 [==============================] - 0s 10ms/step - loss: 61.1329 - val_loss: 19.9290\n",
            "Epoch 128/1000\n",
            "4/4 [==============================] - 0s 15ms/step - loss: 62.2499 - val_loss: 20.1097\n",
            "Epoch 129/1000\n",
            "4/4 [==============================] - 0s 13ms/step - loss: 53.6755 - val_loss: 20.3297\n",
            "Epoch 130/1000\n",
            "4/4 [==============================] - 0s 10ms/step - loss: 61.1265 - val_loss: 19.9200\n",
            "Epoch 00130: early stopping\n"
          ]
        }
      ]
    },
    {
      "cell_type": "code",
      "metadata": {
        "colab": {
          "base_uri": "https://localhost:8080/",
          "height": 283
        },
        "id": "JS6pOpE-DIK3",
        "outputId": "5468c43d-68d6-4523-c706-fe2b2d3d820a"
      },
      "source": [
        "import pandas as pd\n",
        "\n",
        "losses = pd.DataFrame(model.history.history)\n",
        "losses.plot()"
      ],
      "execution_count": 10,
      "outputs": [
        {
          "output_type": "execute_result",
          "data": {
            "text/plain": [
              "<matplotlib.axes._subplots.AxesSubplot at 0x7f9d3879e210>"
            ]
          },
          "metadata": {},
          "execution_count": 10
        },
        {
          "output_type": "display_data",
          "data": {
            "image/png": "[encoded data removed]",
            "text/plain": [
              "<Figure size 432x288 with 1 Axes>"
            ]
          },
          "metadata": {
            "needs_background": "light"
          }
        }
      ]
    },
    {
      "cell_type": "code",
      "metadata": {
        "colab": {
          "base_uri": "https://localhost:8080/"
        },
        "id": "vr3o0UiqDXSI",
        "outputId": "1cce4173-ab14-4b9b-a383-f688fb193828"
      },
      "source": [
        "import numpy as np\n",
        "from sklearn.metrics import mean_squared_error,mean_absolute_error\n",
        "predictions = model.predict(x_test)\n",
        "print(mean_absolute_error(y_test,predictions))\n",
        "print(np.sqrt(mean_squared_error(y_test,predictions)))"
      ],
      "execution_count": 11,
      "outputs": [
        {
          "output_type": "stream",
          "name": "stdout",
          "text": [
            "2.9982887604657344\n",
            "4.125490655607533\n"
          ]
        }
      ]
    }
  ]
}